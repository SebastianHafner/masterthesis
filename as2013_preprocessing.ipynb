{
 "cells": [
  {
   "cell_type": "code",
   "execution_count": null,
   "metadata": {},
   "outputs": [],
   "source": []
  },
  {
   "cell_type": "code",
   "execution_count": null,
   "metadata": {},
   "outputs": [],
   "source": []
  },
  {
   "cell_type": "code",
   "execution_count": null,
   "metadata": {},
   "outputs": [],
   "source": []
  },
  {
   "cell_type": "code",
   "execution_count": 1,
   "metadata": {},
   "outputs": [
    {
     "name": "stdout",
     "output_type": "stream",
     "text": [
      "(2709450, 5)\n"
     ]
    },
    {
     "data": {
      "text/html": [
       "<div>\n",
       "<style scoped>\n",
       "    .dataframe tbody tr th:only-of-type {\n",
       "        vertical-align: middle;\n",
       "    }\n",
       "\n",
       "    .dataframe tbody tr th {\n",
       "        vertical-align: top;\n",
       "    }\n",
       "\n",
       "    .dataframe thead th {\n",
       "        text-align: right;\n",
       "    }\n",
       "</style>\n",
       "<table border=\"1\" class=\"dataframe\">\n",
       "  <thead>\n",
       "    <tr style=\"text-align: right;\">\n",
       "      <th></th>\n",
       "      <th>X</th>\n",
       "      <th>Y</th>\n",
       "      <th>FJ4</th>\n",
       "      <th>LC4_27</th>\n",
       "      <th>LC4_6</th>\n",
       "    </tr>\n",
       "  </thead>\n",
       "  <tbody>\n",
       "    <tr>\n",
       "      <th>0</th>\n",
       "      <td>488900</td>\n",
       "      <td>112700</td>\n",
       "      <td>2012.0</td>\n",
       "      <td>11.0</td>\n",
       "      <td>10.0</td>\n",
       "    </tr>\n",
       "    <tr>\n",
       "      <th>1</th>\n",
       "      <td>489000</td>\n",
       "      <td>111400</td>\n",
       "      <td>2012.0</td>\n",
       "      <td>47.0</td>\n",
       "      <td>40.0</td>\n",
       "    </tr>\n",
       "    <tr>\n",
       "      <th>2</th>\n",
       "      <td>490700</td>\n",
       "      <td>116700</td>\n",
       "      <td>2012.0</td>\n",
       "      <td>11.0</td>\n",
       "      <td>10.0</td>\n",
       "    </tr>\n",
       "    <tr>\n",
       "      <th>3</th>\n",
       "      <td>491100</td>\n",
       "      <td>114500</td>\n",
       "      <td>2012.0</td>\n",
       "      <td>21.0</td>\n",
       "      <td>20.0</td>\n",
       "    </tr>\n",
       "    <tr>\n",
       "      <th>4</th>\n",
       "      <td>491200</td>\n",
       "      <td>117800</td>\n",
       "      <td>2012.0</td>\n",
       "      <td>46.0</td>\n",
       "      <td>40.0</td>\n",
       "    </tr>\n",
       "  </tbody>\n",
       "</table>\n",
       "</div>"
      ],
      "text/plain": [
       "        X       Y     FJ4  LC4_27  LC4_6\n",
       "0  488900  112700  2012.0    11.0   10.0\n",
       "1  489000  111400  2012.0    47.0   40.0\n",
       "2  490700  116700  2012.0    11.0   10.0\n",
       "3  491100  114500  2012.0    21.0   20.0\n",
       "4  491200  117800  2012.0    46.0   40.0"
      ]
     },
     "execution_count": 1,
     "metadata": {},
     "output_type": "execute_result"
    }
   ],
   "source": [
    "import pandas as pd\n",
    "import numpy as np\n",
    "from scipy import signal\n",
    "import matplotlib.pyplot as plt\n",
    "\n",
    "%matplotlib inline\n",
    "\n",
    "# read in arealstatistik land cover data and drop unnecessary columns\n",
    "path = ''\n",
    "file_name = 'AREA_Interpretationsresultate.csv'\n",
    "df = pd.read_csv(f'{path}{file_name}', nrows=5000000)\n",
    "df = df[['X_COORD','Y_COORD','FJ4','LC4_27','LC4_6']]\n",
    "df = df.rename(columns={'X_COORD':'X', 'Y_COORD':'Y'})\n",
    "df = df.dropna(axis=0,how='any')\n",
    "\n",
    "print(df.shape)\n",
    "# 2709450\n",
    "df.head()"
   ]
  },
  {
   "cell_type": "code",
   "execution_count": 2,
   "metadata": {},
   "outputs": [
    {
     "data": {
      "text/html": [
       "<div>\n",
       "<style scoped>\n",
       "    .dataframe tbody tr th:only-of-type {\n",
       "        vertical-align: middle;\n",
       "    }\n",
       "\n",
       "    .dataframe tbody tr th {\n",
       "        vertical-align: top;\n",
       "    }\n",
       "\n",
       "    .dataframe thead th {\n",
       "        text-align: right;\n",
       "    }\n",
       "</style>\n",
       "<table border=\"1\" class=\"dataframe\">\n",
       "  <thead>\n",
       "    <tr style=\"text-align: right;\">\n",
       "      <th></th>\n",
       "      <th>X</th>\n",
       "      <th>Y</th>\n",
       "      <th>FJ4</th>\n",
       "      <th>LC4_27</th>\n",
       "      <th>LC4_6</th>\n",
       "      <th>land_cover</th>\n",
       "    </tr>\n",
       "  </thead>\n",
       "  <tbody>\n",
       "    <tr>\n",
       "      <th>0</th>\n",
       "      <td>488900</td>\n",
       "      <td>112700</td>\n",
       "      <td>2012.0</td>\n",
       "      <td>11.0</td>\n",
       "      <td>10.0</td>\n",
       "      <td>0</td>\n",
       "    </tr>\n",
       "    <tr>\n",
       "      <th>1</th>\n",
       "      <td>489000</td>\n",
       "      <td>111400</td>\n",
       "      <td>2012.0</td>\n",
       "      <td>47.0</td>\n",
       "      <td>40.0</td>\n",
       "      <td>3</td>\n",
       "    </tr>\n",
       "    <tr>\n",
       "      <th>2</th>\n",
       "      <td>490700</td>\n",
       "      <td>116700</td>\n",
       "      <td>2012.0</td>\n",
       "      <td>11.0</td>\n",
       "      <td>10.0</td>\n",
       "      <td>0</td>\n",
       "    </tr>\n",
       "    <tr>\n",
       "      <th>3</th>\n",
       "      <td>491100</td>\n",
       "      <td>114500</td>\n",
       "      <td>2012.0</td>\n",
       "      <td>21.0</td>\n",
       "      <td>20.0</td>\n",
       "      <td>1</td>\n",
       "    </tr>\n",
       "    <tr>\n",
       "      <th>4</th>\n",
       "      <td>491200</td>\n",
       "      <td>117800</td>\n",
       "      <td>2012.0</td>\n",
       "      <td>46.0</td>\n",
       "      <td>40.0</td>\n",
       "      <td>3</td>\n",
       "    </tr>\n",
       "  </tbody>\n",
       "</table>\n",
       "</div>"
      ],
      "text/plain": [
       "        X       Y     FJ4  LC4_27  LC4_6  land_cover\n",
       "0  488900  112700  2012.0    11.0   10.0           0\n",
       "1  489000  111400  2012.0    47.0   40.0           3\n",
       "2  490700  116700  2012.0    11.0   10.0           0\n",
       "3  491100  114500  2012.0    21.0   20.0           1\n",
       "4  491200  117800  2012.0    46.0   40.0           3"
      ]
     },
     "execution_count": 2,
     "metadata": {},
     "output_type": "execute_result"
    }
   ],
   "source": [
    "# remap land cover according to remap dictionaries\n",
    "\n",
    "# remap function\n",
    "def remap(row):\n",
    "    \n",
    "    remap_dict1 = {10: 0, 20: 1, 30: 2, 40: 3, 50: 4}\n",
    "    remap_dict2 = {61: 5, 62: 6, 63: 5, 64: 5}\n",
    "    \n",
    "    # everything but 'watery areas' (60) is simply remapped\n",
    "    if row['LC4_6'] == 60: # watery areas\n",
    "        return remap_dict2.get(int(row['LC4_27']))  \n",
    "    else: # non watery areas\n",
    "        return remap_dict1.get(int(row['LC4_6']))\n",
    "    # end of remap function\n",
    "\n",
    "\n",
    "# apply function to data frame\n",
    "df['land_cover'] = df.apply(remap, axis=1)\n",
    "df.head()"
   ]
  },
  {
   "cell_type": "code",
   "execution_count": 3,
   "metadata": {},
   "outputs": [
    {
     "name": "stdout",
     "output_type": "stream",
     "text": [
      "shape: (1863, 2833)\n",
      "0\n",
      "2000000\n",
      "3000000\n"
     ]
    }
   ],
   "source": [
    "# convert data frame to a numpy array\n",
    "\n",
    "# get indices based on coordinates\n",
    "x_min = df['X'].min(); y_min = df['Y'].min()\n",
    "df['ix'] = (df['X'] - x_min)//100; df['iy'] = (df['Y'] - y_min)//100\n",
    "\n",
    "# create numpy array\n",
    "\n",
    "# indices start with 0 => +1 to get number of elemements\n",
    "n_columns = df['ix'].max()+1; n_rows = df['iy'].max()+1\n",
    "\n",
    "# [n rows, n columns]\n",
    "land_cover = np.full((n_rows,n_columns),-1,dtype=int)\n",
    "year = np.full((n_rows,n_columns),-1,dtype=int)\n",
    "print('shape:',land_cover.shape)\n",
    "\n",
    "# transfer data frame data to array\n",
    "for index, row in df.iterrows():\n",
    "    \n",
    "    land_cover[int(row['iy']),int(row['ix'])] = int(row['land_cover'])\n",
    "    year[int(row['iy']),int(row['ix'])] = int(row['FJ4'])\n",
    "    \n",
    "    if index%1000000 == 0: print(index)\n",
    "    # end of loop\n",
    "    \n"
   ]
  },
  {
   "cell_type": "code",
   "execution_count": 4,
   "metadata": {},
   "outputs": [
    {
     "data": {
      "text/plain": [
       "<matplotlib.image.AxesImage at 0x7fd5fbcfef28>"
      ]
     },
     "execution_count": 4,
     "metadata": {},
     "output_type": "execute_result"
    },
    {
     "data": {
      "image/png": "[encoded data removed]",
      "text/plain": [
       "<Figure size 432x288 with 1 Axes>"
      ]
     },
     "metadata": {
      "needs_background": "light"
     },
     "output_type": "display_data"
    }
   ],
   "source": [
    "# flip numpy array upside-down\n",
    "land_cover = np.flip(land_cover,axis=0)\n",
    "year = np.flip(year,axis=0)\n",
    "\n",
    "# display results\n",
    "plt.imshow(land_cover)"
   ]
  },
  {
   "cell_type": "code",
   "execution_count": 5,
   "metadata": {},
   "outputs": [
    {
     "data": {
      "text/plain": [
       "<matplotlib.image.AxesImage at 0x7fd5f9c5f0f0>"
      ]
     },
     "execution_count": 5,
     "metadata": {},
     "output_type": "execute_result"
    },
    {
     "data": {
      "image/png": "[encoded data removed]",
      "text/plain": [
       "<Figure size 432x288 with 1 Axes>"
      ]
     },
     "metadata": {
      "needs_background": "light"
     },
     "output_type": "display_data"
    }
   ],
   "source": [
    "# interpolating missing values\n",
    "# using the most frequent land cover in the 3x3 neighborhood\n",
    "\n",
    "def adjacent_class_counts(kernel):\n",
    "    \n",
    "    assert(kernel.shape==(3,3))\n",
    "    \n",
    "    class_counts = {}\n",
    "    for index, _ in np.ndenumerate(kernel):\n",
    "        irow, icol = index\n",
    "        if irow != 1 or icol!= 1:\n",
    "            class_ = int(kernel[index[0],index[1]])\n",
    "            count = class_counts.get(class_,0)\n",
    "            class_counts[class_] = count + 1\n",
    "    \n",
    "    return class_counts\n",
    "\n",
    "def interpolate(image):\n",
    "     \n",
    "    offset = 1\n",
    "    new_image = np.copy(image)\n",
    "    \n",
    "    # loop over all pixels ignoring edges\n",
    "    for i in range(offset,image.shape[0]-offset):\n",
    "        for j in range(offset,image.shape[1]-offset):\n",
    "            class_ = int(image[i,j])\n",
    "            \n",
    "            if class_ == -1:\n",
    "                kernel = image[i-offset:i+offset+1,j-offset:j+offset+1]\n",
    "                class_counts = adjacent_class_counts(kernel)\n",
    "                n_nodata = class_counts.get(-1,0)\n",
    "                if n_nodata == 0:\n",
    "                    class_interp = max(class_counts, key=class_counts.get)\n",
    "                    new_image[i,j] = class_interp\n",
    "               \n",
    "    return new_image\n",
    "\n",
    "\n",
    "land_cover_interp = interpolate(land_cover)\n",
    "plt.imshow(land_cover_interp)"
   ]
  },
  {
   "cell_type": "code",
   "execution_count": 6,
   "metadata": {},
   "outputs": [],
   "source": [
    "datacube = np.full((n_rows,n_columns,3),-1,dtype=int)\n",
    "datacube[:,:,0] = land_cover\n",
    "datacube[:,:,1] = land_cover_interp\n",
    "datacube[:,:,2] = year\n",
    "\n",
    "band_names = ['land cover','land cover interp','flight year']"
   ]
  },
  {
   "cell_type": "code",
   "execution_count": 7,
   "metadata": {
    "scrolled": true
   },
   "outputs": [
    {
     "name": "stdout",
     "output_type": "stream",
     "text": [
      "485500 768700\n",
      "109700 295900\n"
     ]
    }
   ],
   "source": [
    "# get coordinates\n",
    "x_min, x_max, y_min, y_max = (df['X'].min(), df['X'].max(), df['Y'].min(), df['Y'].max())\n",
    "n_rows, n_cols = np.shape(land_cover)\n",
    "x_res, y_res = (100, 100)\n",
    "geotransform = (x_min-50, x_res, 0, y_max+50, 0, -y_res)\n",
    "\n",
    "print(x_min, x_max)\n",
    "print(y_min, y_max)"
   ]
  },
  {
   "cell_type": "code",
   "execution_count": 8,
   "metadata": {},
   "outputs": [],
   "source": [
    "# export array as geo tiff file\n",
    "from osgeo import gdal\n",
    "from osgeo import gdal_array\n",
    "from osgeo import osr\n",
    "\n",
    "# function to export a numpy array (arr) as geo tiff\n",
    "def export_geotiff(fname, arr, x_min, y_max, x_res, y_res, crs, band_names):\n",
    "    \n",
    "    n_rows, n_cols, n_bands = np.shape(arr)\n",
    "    \n",
    "    geotransform = (x_min-50, x_res, 0, y_max+50, 0, -y_res)\n",
    "    \n",
    "    # open geo tiff file\n",
    "    geotiff = gdal.GetDriverByName('GTiff').Create(fname+'.tif',n_cols, n_rows, n_bands, gdal.GDT_Int16)\n",
    "    geotiff.SetGeoTransform(geotransform)\n",
    "    \n",
    "    # set crs\n",
    "    srs = osr. SpatialReference()\n",
    "    srs.ImportFromEPSG(crs)\n",
    "    geotiff.SetProjection(srs.ExportToWkt())\n",
    "    \n",
    "    # write array to geo tiff\n",
    "    for iband in range(n_bands):\n",
    "        raster_band = geotiff.GetRasterBand(iband+1)\n",
    "        raster_band.WriteArray(arr[:,:,iband])\n",
    "        raster_band.SetDescription(band_names[iband])\n",
    "        raster_band.FlushCache()\n",
    "    \n",
    "    # end of export geo tiff function\n",
    "\n",
    "\n",
    "export_geotiff('arealstatistik_landcover_2013',datacube,x_min,y_max,100,100,21781,band_names)"
   ]
  },
  {
   "cell_type": "code",
   "execution_count": null,
   "metadata": {},
   "outputs": [],
   "source": []
  },
  {
   "cell_type": "code",
   "execution_count": null,
   "metadata": {},
   "outputs": [],
   "source": []
  },
  {
   "cell_type": "code",
   "execution_count": null,
   "metadata": {},
   "outputs": [],
   "source": [
    "\n",
    "   "
   ]
  },
  {
   "cell_type": "code",
   "execution_count": null,
   "metadata": {},
   "outputs": [],
   "source": []
  },
  {
   "cell_type": "code",
   "execution_count": null,
   "metadata": {},
   "outputs": [],
   "source": []
  },
  {
   "cell_type": "code",
   "execution_count": null,
   "metadata": {},
   "outputs": [],
   "source": []
  },
  {
   "cell_type": "code",
   "execution_count": null,
   "metadata": {
    "scrolled": false
   },
   "outputs": [],
   "source": []
  },
  {
   "cell_type": "code",
   "execution_count": null,
   "metadata": {},
   "outputs": [],
   "source": []
  },
  {
   "cell_type": "code",
   "execution_count": null,
   "metadata": {},
   "outputs": [],
   "source": []
  },
  {
   "cell_type": "code",
   "execution_count": null,
   "metadata": {},
   "outputs": [],
   "source": []
  },
  {
   "cell_type": "code",
   "execution_count": null,
   "metadata": {},
   "outputs": [],
   "source": []
  },
  {
   "cell_type": "code",
   "execution_count": null,
   "metadata": {},
   "outputs": [],
   "source": []
  }
 ],
 "metadata": {
  "kernelspec": {
   "display_name": "Python 3",
   "language": "python",
   "name": "python3"
  },
  "language_info": {
   "codemirror_mode": {
    "name": "ipython",
    "version": 3
   },
   "file_extension": ".py",
   "mimetype": "text/x-python",
   "name": "python",
   "nbconvert_exporter": "python",
   "pygments_lexer": "ipython3",
   "version": "3.6.7"
  }
 },
 "nbformat": 4,
 "nbformat_minor": 2
}
