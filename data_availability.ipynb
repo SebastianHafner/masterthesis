{
 "cells": [
  {
   "cell_type": "markdown",
   "metadata": {},
   "source": [
    "This is a script to plot the data availability in a Gantt Chart."
   ]
  },
  {
   "cell_type": "code",
   "execution_count": 6,
   "metadata": {
    "scrolled": false
   },
   "outputs": [
    {
     "name": "stdout",
     "output_type": "stream",
     "text": [
      "             Data       Start      Finish       Type\n",
      "0       Landsat 8  11/04/2013  31/12/2018    Optical\n",
      "1       Landsat 7  01/01/1999  31/12/2018    Optical\n",
      "2       Landsat 5  01/01/1984  05/05/2012    Optical\n",
      "3     Sentinel-2A  23/06/2015  31/12/2018    Optical\n",
      "4     Sentinel-2B  07/03/2017  31/12/2018    Optical\n",
      "5  Arealstatistik  01/01/2013  31/12/2018  Reference\n",
      "6  Arealstatistik  01/01/1979  31/12/1985  Reference\n",
      "7  Arealstatistik  01/01/1992  31/12/1997  Reference\n",
      "8  Arealstatistik  01/01/2004  31/12/2009  Reference\n"
     ]
    },
    {
     "data": {
      "image/png": "[encoded data removed]",
      "text/plain": [
       "<Figure size 576x216 with 1 Axes>"
      ]
     },
     "metadata": {
      "needs_background": "light"
     },
     "output_type": "display_data"
    }
   ],
   "source": [
    "%matplotlib inline\n",
    "\n",
    "import pandas as pd\n",
    "import matplotlib.pyplot as plt\n",
    "import datetime as dt\n",
    "from datetime import datetime\n",
    "from matplotlib.dates import date2num,num2date\n",
    "import numpy as np\n",
    "\n",
    "# load data and display it\n",
    "df = pd.read_csv('data.csv')\n",
    "print(df)\n",
    "\n",
    "\n",
    "# convert the start and finish dates to nums\n",
    "# calculate difference\n",
    "date_format = \"%d/%m/%Y\"\n",
    "df['Diff'] = 0\n",
    "for index, row in df.iterrows():\n",
    "    start = date2num(datetime.strptime(row['Start'], date_format))\n",
    "    finish = date2num(datetime.strptime(row['Finish'], date_format))\n",
    "    df.at[index,'Start'] = start\n",
    "    df.at[index,'Finish'] = finish\n",
    "    df.at[index,'Diff'] = finish-start\n",
    "    \n",
    "# set colors for types of data\n",
    "color = {\"Optical\":\"black\", \"Reference\":\"black\"}\n",
    "\n",
    "# create figure\n",
    "plt.rcParams.update({'font.size': 14})\n",
    "fig,ax=plt.subplots(figsize=(8,3))\n",
    "\n",
    "# add all bars to the plot\n",
    "labels=[]\n",
    "for i, task in enumerate(df.groupby(\"Data\")):\n",
    "    labels.append(task[0])\n",
    "    for r in task[1].groupby(\"Type\"):\n",
    "        data = r[1][[\"Start\", \"Diff\"]]\n",
    "        ax.broken_barh(data.values, (i-0.05,0.1), color=color[r[0]] )\n",
    "\n",
    "# set labels for y axis\n",
    "ax.set_yticks(range(len(labels)))\n",
    "ax.set_yticklabels(labels)\n",
    "\n",
    "# define ticks and labels\n",
    "dates = [\n",
    "    '01/01/2004',\n",
    "    '01/01/2006',\n",
    "    '01/01/2008',\n",
    "    '01/01/2010',\n",
    "    '01/01/2012',\n",
    "    '01/01/2014',\n",
    "    '01/01/2016',\n",
    "    '01/01/2018'\n",
    "]\n",
    "x = [date2num(dt.datetime.strptime(d,'%m/%d/%Y')) for d in dates]\n",
    "ax.set_xticks(x)\n",
    "labels = [num2date(num).strftime(\"%Y\") for num in plt.xticks()[0] ]\n",
    "ax.set_xticklabels(labels)\n",
    "\n",
    "# define x limits (ticks and labels might have to be adjusted)\n",
    "limits = ['01/01/2003','01/01/2019']\n",
    "limits = [date2num(dt.datetime.strptime(d,'%m/%d/%Y')) for d in limits]\n",
    "plt.xlim(limits[0],limits[1])\n",
    "\n",
    "# set x axis title\n",
    "ax.set_xlabel(\"Year\")\n",
    "\n",
    "plt.tight_layout()\n",
    "plt.savefig('data_availability.png', dpi=300, bbox_inches='tight')\n",
    "plt.show()\n",
    "\n"
   ]
  },
  {
   "cell_type": "markdown",
   "metadata": {},
   "source": [
    "This is a script to plot the scene availability for different sensors"
   ]
  },
  {
   "cell_type": "code",
   "execution_count": null,
   "metadata": {},
   "outputs": [],
   "source": [
    "%matplotlib inline\n",
    "\n",
    "import pandas as pd\n",
    "import matplotlib.pyplot as plt\n",
    "import datetime as dt\n",
    "from datetime import datetime\n",
    "from matplotlib.dates import date2num,num2date\n",
    "import numpy as np"
   ]
  }
 ],
 "metadata": {
  "kernelspec": {
   "display_name": "Python 3",
   "language": "python",
   "name": "python3"
  },
  "language_info": {
   "codemirror_mode": {
    "name": "ipython",
    "version": 3
   },
   "file_extension": ".py",
   "mimetype": "text/x-python",
   "name": "python",
   "nbconvert_exporter": "python",
   "pygments_lexer": "ipython3",
   "version": "3.7.3"
  }
 },
 "nbformat": 4,
 "nbformat_minor": 2
}
